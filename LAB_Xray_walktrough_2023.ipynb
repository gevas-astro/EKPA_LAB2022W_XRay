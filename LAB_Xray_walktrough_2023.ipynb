{
 "cells": [
  {
   "cell_type": "markdown",
   "id": "9989f053",
   "metadata": {},
   "source": [
    "# you need to install these packages in your conda enviroment"
   ]
  },
  {
   "cell_type": "code",
   "execution_count": null,
   "id": "e5f27cfe",
   "metadata": {},
   "outputs": [],
   "source": [
    "#Install python packages in anaconda\n",
    "\n",
    "# Install missiong pachages\n",
    "# https://anaconda.org/anaconda/numpy\n",
    "# https://anaconda.org/conda-forge/matplotlib\n",
    "# https://anaconda.org/anaconda/pandas\n",
    "# https://anaconda.org/anaconda/scipy\n",
    "\n",
    "# conda install -c anaconda numpy\n",
    "# conda install -c conda-forge matplotlib\n",
    "# conda install -c anaconda pandas\n",
    "# conda install -c anaconda scipy\n",
    "# conda install -c anaconda astropy\n",
    "# conda install -c conda-forge stingray\n",
    "\n",
    "# conda install -c anaconda seaborn"
   ]
  },
  {
   "cell_type": "markdown",
   "id": "751df793",
   "metadata": {},
   "source": [
    "# assuming all packages are installed, we load them\n",
    "- note stingray has lots of packages for timing analysis and x-rays"
   ]
  },
  {
   "cell_type": "code",
   "execution_count": null,
   "id": "21dae74c",
   "metadata": {},
   "outputs": [],
   "source": [
    "import numpy as np\n",
    "#from uncertainties import ufloat, unumpy\n",
    "#from uncertainties.umath import *\n",
    "from astropy.io import fits\n",
    "from astropy.table import Table\n",
    "import scipy.stats as st\n",
    "\n",
    "import matplotlib.pyplot as plt\n",
    "import matplotlib as mpl\n",
    "import pandas as pd\n",
    "\n",
    "#from astropy.stats import LombScargle\n",
    "from scipy import signal\n",
    "import warnings\n",
    "warnings.filterwarnings(\"ignore\")\n",
    "\n",
    "import astropy.io.fits as pyfits\n",
    "\n",
    "from stingray.pulse.search import epoch_folding_search, z_n_search\n",
    "\n",
    "from scipy.signal import savgol_filter\n",
    "import scipy.optimize\n",
    "\n",
    "from stingray.pulse.pulsar import fold_events\n",
    "from stingray.pulse.search import plot_profile"
   ]
  },
  {
   "cell_type": "code",
   "execution_count": null,
   "id": "f3054365",
   "metadata": {},
   "outputs": [],
   "source": [
    "## some lines for stylish purposhes... try disabling them or commenting them out and see what changes in plots.\n",
    "\n",
    "##specify notebook style, following lines help with interactive plots, i.e. show values as you hover mouse pointer\n",
    "# plt.style.use('seaborn-notebook')\n",
    "# %matplotlib notebook\n",
    "\n",
    "## Next two lines help with setting max width on cell. \n",
    "from IPython.core.display import display, HTML\n",
    "display(HTML(\"<style>.container { width:100% !important; }</style>\"))\n",
    "\n",
    "## Next 3 lines help with default color on plots, i.e. balck or white Backgorund color\n",
    "import seaborn as sns\n",
    "sns.set(context='notebook',style='dark')\n",
    "plt.style.use(['dark_background'])"
   ]
  },
  {
   "cell_type": "markdown",
   "id": "a7727b86",
   "metadata": {},
   "source": [
    "## Play with python plots of fits images"
   ]
  },
  {
   "cell_type": "markdown",
   "id": "8dbede5d",
   "metadata": {},
   "source": [
    "a fits file is essentially a table and some extra information\n",
    "we care about table of data which is in extension \"[1]\" of the file, have a look on the file with topcat or ds9 as well"
   ]
  },
  {
   "cell_type": "code",
   "execution_count": null,
   "id": "39a10a90",
   "metadata": {},
   "outputs": [],
   "source": [
    "# we load a fits file\n",
    "image_file1 = 'nu30202035002A01_cl.evt.gz'\n",
    "imfits = pyfits.open(image_file1)\n",
    "\n",
    "im = imfits[1].data"
   ]
  },
  {
   "cell_type": "markdown",
   "id": "059b20d7",
   "metadata": {},
   "source": [
    "lets see which columns are in the table and print their context"
   ]
  },
  {
   "cell_type": "code",
   "execution_count": null,
   "id": "18606cf7",
   "metadata": {},
   "outputs": [],
   "source": [
    "print(im.dtype)"
   ]
  },
  {
   "cell_type": "code",
   "execution_count": null,
   "id": "72cbefa7",
   "metadata": {},
   "outputs": [],
   "source": [
    "# this is an important column... more on this later\n",
    "print(im['PI'])"
   ]
  },
  {
   "cell_type": "markdown",
   "id": "9f8333df",
   "metadata": {},
   "source": [
    "TODO: In the next cell print the context of the columns that have the time information"
   ]
  },
  {
   "cell_type": "code",
   "execution_count": null,
   "id": "16205e9b",
   "metadata": {},
   "outputs": [],
   "source": [
    "\n"
   ]
  },
  {
   "cell_type": "markdown",
   "id": "9c028582",
   "metadata": {},
   "source": [
    "In the next cell we like to plot a 2D histogram of number of pixels.\n",
    "You can define a position of a photon by its CCD pixel coordinate and plot it like with ds9.\n",
    "\n",
    "TODO: use the 'X' and 'Y' columns as x and y variables"
   ]
  },
  {
   "cell_type": "code",
   "execution_count": null,
   "id": "3b8b988a",
   "metadata": {},
   "outputs": [],
   "source": [
    "# you can define a position of a photon by its CCD pixel coordinate and plot it like with ds9\n",
    "x = \n",
    "y = \n",
    "\n",
    "plt.close('all')\n",
    "fig1=plt.figure(1,figsize=(4,4))\n",
    "plt.hist2d(x, y, bins=(200, 200),cmap=mpl.cm.gray,norm=mpl.colors.LogNorm())\n",
    "plt.xlim(200,700)\n",
    "plt.ylim(200,700)\n",
    "plt.show()"
   ]
  },
  {
   "cell_type": "markdown",
   "id": "9834f472",
   "metadata": {},
   "source": [
    "In the above plot you see a point source round coordinates 500,500,\n",
    "\n",
    "Here is a function to measure the distance of each photon from the central point\n",
    "the funstion returns a table with equal size as the number of events you pass into the pable, and \"True/False\" values depending if the photon is inside or outside the radious.\n"
   ]
  },
  {
   "cell_type": "code",
   "execution_count": null,
   "id": "b991286b",
   "metadata": {},
   "outputs": [],
   "source": [
    "def in_circle(center_x, center_y, radius, x, y):\n",
    "    square_dist = (center_x - x) ** 2 + (center_y - y) ** 2\n",
    "    return square_dist <= radius ** 2"
   ]
  },
  {
   "cell_type": "markdown",
   "id": "6657a6f7",
   "metadata": {},
   "source": [
    "We call the above function using the center we find, e.g. 550,550 and a radious in pixel coordinates of 50 pixels\n",
    "\n",
    "TODO: can you define the center and size/extend of the point source more accuratly?"
   ]
  },
  {
   "cell_type": "code",
   "execution_count": null,
   "id": "e56053d2",
   "metadata": {},
   "outputs": [],
   "source": [
    "dist = in_circle(550.0,550.0,50,x,y)\n",
    "\n",
    "#here we plot the same image as above in grey scale, and the photons we selected in color scale.\n",
    "\n",
    "plt.close('all')\n",
    "fig1=plt.figure(1,figsize=(4,4))\n",
    "plt.hist2d(x, y, bins=(100, 100),cmap=mpl.cm.gray,norm=mpl.colors.LogNorm())\n",
    "plt.hist2d(x[dist], y[dist], bins=(100, 100), cmap=plt.cm.jet,norm=mpl.colors.LogNorm())\n",
    "plt.xlim(200,700)\n",
    "plt.ylim(200,700)\n",
    "plt.show()"
   ]
  },
  {
   "cell_type": "markdown",
   "id": "4bcb1a6f",
   "metadata": {},
   "source": [
    "## Here we start the timing analysis"
   ]
  },
  {
   "cell_type": "markdown",
   "id": "2b9a3660",
   "metadata": {},
   "source": [
    "We can use photons/events that were detected inside the cyrcle defioned above\n",
    "\n",
    "The PI column is calculated from the measure of the charge in the CCD camera created from each photon, and can be translated to energy in keV (cgs)\n",
    "Nustar E = Channel Number * 0.04 keV + 1.6 keV\n",
    "\n",
    "TODO: \n",
    "- alter the limits in mask1 to include energies between 3 and 30 keV\n",
    "- note lines `mask1 = (PI*0.04+1.6>3) & (PI*0.04+1.6<=10)`"
   ]
  },
  {
   "cell_type": "code",
   "execution_count": null,
   "id": "0f7dbb0d",
   "metadata": {},
   "outputs": [],
   "source": [
    "times0 = im['time']\n",
    "PI0=im['PI']\n",
    "times = times0[dist]\n",
    "PI = PI0[dist]\n",
    "\n",
    "\n",
    "mask1 = (PI*0.04+1.6>3) & (PI*0.04+1.6<=10)\n",
    "print(PI.min(), PI.max())\n",
    "\n",
    "times_masked = times[mask1]"
   ]
  },
  {
   "cell_type": "markdown",
   "id": "41811c7e",
   "metadata": {},
   "source": [
    "## Merge data from 2 detectors (extra credit) \n",
    "\n",
    "by merging these 2 files we increase our statistics, but we have to merge the two lists\n",
    "the two files are\n",
    "- nu30202035002A01_cl_sc_bary.fits\n",
    "- nu30202035002B01_cl_sc_bary.fits\n",
    "\n",
    "you need to read them both and merge them in one list\n",
    "\n",
    "hints...\n",
    "- look at numpy append, or \"np.append\" command\n",
    "- Do not forget to filter for energies, aka PI"
   ]
  },
  {
   "cell_type": "code",
   "execution_count": null,
   "id": "7e90231b",
   "metadata": {},
   "outputs": [],
   "source": [
    "## try here in class or try at home"
   ]
  },
  {
   "cell_type": "markdown",
   "id": "7bc975a1",
   "metadata": {},
   "source": [
    "# Pulsation search with epoch folding.\n",
    "\n",
    "Let us assume we have already an estimate of the pulse period, for example because we found a candidate in the power density spectrum with a period of ~31.62 sec.\n",
    "We search around that period with the epoch folding.\n",
    "\n",
    "Epoch folding consists of cutting the light curve at every pulse period and summing up all the intervals obtained in this way. We get an average pulse profile. In this example, where the pulse was plotted twice for visual clarity. If the candidate pulse frequency was even slightly incorrect, we would have obtained a much shallower pulse profile, or no pulse profile at all.\n",
    "\n",
    "TODO: here we use all events from detector (i.e. times array), you need to use only the masked times to increase signal-to-noise of the data."
   ]
  },
  {
   "cell_type": "code",
   "execution_count": null,
   "id": "da79fa46",
   "metadata": {},
   "outputs": [],
   "source": [
    "nbin = 8\n",
    "period = 31.62\n",
    "\n",
    "ph, profile, profile_err = fold_events(times, 1/period, nbin=nbin)\n",
    "_ = plot_profile(ph, profile)\n",
    "\n",
    "\n",
    "# plot folded profile for random period of 21 s\n",
    "ph, profile, profile_err = fold_events(times, 1/21, nbin=nbin)\n",
    "_ = plot_profile(ph, profile)"
   ]
  },
  {
   "cell_type": "markdown",
   "id": "5302465f",
   "metadata": {},
   "source": [
    "Therefore, typically we try a number of frequencies around the candidate we found with the power spectrum or other means, and search for the frequency that gives the \"best\" pulsed profile. \n",
    "How do we evaluate this best frequency?\n",
    "We use the chi squared statistics. \n",
    "\n",
    "We use a flat pulsed profile (no pulsation) as model, and we calculate the chi square of the actual pulsed profile with respect to this flat model:\n",
    "\n",
    "$$\n",
    "S = \\sum_i\\frac{(P_i - \\overline{P})^2}{\\sigma^2}\n",
    "$$\n",
    "\n",
    "If there is no pulsation, the chi squared will assume a random value distributed around the number of degrees of freedom $n - 1$ (where $n$ is the number of bins in the profile) with a well defined statistical distribution ($\\chi^2_{n - 1}$). If there is pulsation, the value will be much larger.\n",
    "Stingray has a function that does this: `stingray.pulse.search.epoch_folding_search`.\n",
    "\n",
    "For the frequency resolution of the periodogram, one usually chooses _at least_ the same frequency resolution of the FFT, i. e., $df_{\\rm min}=1/(t_1 - t_0)$. In most cases, a certain degree of oversampling is used."
   ]
  },
  {
   "cell_type": "markdown",
   "id": "72a5dc23",
   "metadata": {},
   "source": [
    "We will search for pulsations over a range of frequencies around the known pulsation period.\n",
    "we search between a amximum and minimum period... ask us in the classroom why we define them these way.\n",
    "the default step is 1/T where T is the duration of the observations. we can do more fine steps by increasing the oversampling parameter i.e. a value of 10 will give narrower range, and 0.1 a wider range\n",
    "\n",
    "TODO: change oversample and see what happens"
   ]
  },
  {
   "cell_type": "code",
   "execution_count": null,
   "id": "53ddabc8",
   "metadata": {},
   "outputs": [],
   "source": [
    "obs_length = times.max()-times.min()\n",
    "df_min = 1/obs_length\n",
    "oversampling=0.1\n",
    "df = df_min / oversampling\n",
    "\n",
    "frequencies = np.arange(1/period - 500 * df, 1/period + 500 * df, df)\n",
    "\n",
    "\n",
    "freq, efstat = epoch_folding_search(times, frequencies, nbin=nbin)\n",
    "\n",
    "# ---- PLOTTING --------\n",
    "plt.figure()\n",
    "plt.plot(freq, efstat, label='EF statistics')\n",
    "plt.axhline(nbin - 1, ls='--', lw=3, color='k', label='n - 1')\n",
    "# plt.axvline(1/period, lw=3, alpha=0.5, color='r', label='Guess frequency')\n",
    "plt.xlabel('Frequency (Hz)')\n",
    "plt.ylabel('EF Statistics')\n",
    "_ = plt.legend()\n"
   ]
  },
  {
   "cell_type": "markdown",
   "id": "35c547b7",
   "metadata": {},
   "source": [
    "Instead of using the epoch folding functions, we can define our own function to search for periodic signal.\n",
    "\n",
    "A psudo code would be:\n",
    "- give a time series as an input, together with a grid of frequencies and number of bins\n",
    "- estimate phase of each photon, and create a histogram with 'np.histogram' function with N number of bins\n",
    "- use your own statistical test, for example maximize standard deviation of bins (i.e. use function np.std(X))\n",
    "- return the array for all input frequencies."
   ]
  },
  {
   "cell_type": "code",
   "execution_count": null,
   "id": "7e8667c5",
   "metadata": {},
   "outputs": [],
   "source": [
    "\n",
    "def period_search(times,freq,bins):\n",
    "    arr = []\n",
    "    for i in range(len(freq)):\n",
    "        phase_time = times%(1/freq[i])\n",
    "        hist, bin_edges = np.histogram(phase_time,bins)\n",
    "        stdev = np.std(hist)\n",
    "        arr = np.append(arr,stdev)\n",
    "    \n",
    "    return arr"
   ]
  },
  {
   "cell_type": "markdown",
   "id": "a44f1e57",
   "metadata": {},
   "source": [
    "- Lets try our function, you may try this in the masked events, \n",
    "- you may also find it usefull to subtract the ZERO time from the events to have somehow realistic numerical values, otherwise 'TIME' column counts time from some reference time which is years/decades ago."
   ]
  },
  {
   "cell_type": "code",
   "execution_count": null,
   "id": "74779c89",
   "metadata": {},
   "outputs": [],
   "source": [
    "times_ev = times - np.min(times)\n",
    "bins=8\n",
    "phase_test = period_search(times_ev,frequencies,bins)"
   ]
  },
  {
   "cell_type": "markdown",
   "id": "808f72ec",
   "metadata": {},
   "source": [
    "We can compare our method with the one from  the \"black box\" tool.. `epoch_folding_search`.\n",
    "\n",
    "TODO: create a comparion plot of two methods:\n",
    "- axis Folding statistics vs frequency\n",
    "- add labels"
   ]
  },
  {
   "cell_type": "code",
   "execution_count": null,
   "id": "5cad6065",
   "metadata": {},
   "outputs": [],
   "source": [
    "\n",
    "plt.figure()\n",
    "#ADD CODE HERE\n",
    "_ = plt.legend()"
   ]
  },
  {
   "cell_type": "markdown",
   "id": "df314880",
   "metadata": {},
   "source": [
    "# # MAIN ANALYSIS PART\n",
    "\n",
    "The power spectrum above looks strange, it has multiple peaks. This gives us a hint that there might be mupliple periodicitis, or that the period of the pulsar is changing in time.\n",
    "\n",
    "# tasks\n",
    "- create a light curve of the photons, use a large bin time\n",
    "- split the lightcurve in small intervals with masks and search for a period in each interval\n",
    "- plot the best period vs time, i.e. if you split the data into N segments, you will plot N periods versus the mean/middle of the segment"
   ]
  },
  {
   "cell_type": "markdown",
   "id": "34adc60d",
   "metadata": {},
   "source": [
    "TODO: lets find what is the total duration of the observations, i.e. the time between the first and last event"
   ]
  },
  {
   "cell_type": "code",
   "execution_count": null,
   "id": "9cb48af8",
   "metadata": {},
   "outputs": [],
   "source": []
  },
  {
   "cell_type": "markdown",
   "id": "813ffdcf",
   "metadata": {},
   "source": [
    "TODO: make a plot\n",
    "- create a histogram with number of bins that split the lightcurve into 1,10,100 or 1000 sec bins.\n",
    "- Try to zoom in into a part of the light-curve, \n",
    "- Do you see some periodic features like gaps?\n",
    "- knowing that the data come from NuSTAR, can you imagine what is the cause of these gaps? if not search some of the properties of satelite in the literature."
   ]
  },
  {
   "cell_type": "code",
   "execution_count": null,
   "id": "9f1f1978",
   "metadata": {},
   "outputs": [],
   "source": [
    "plt.close('all')\n",
    "fig1=plt.figure(1,figsize=(14,8))\n",
    "\n",
    "print(np.max(times)-np.min(times))\n",
    "\n",
    "hist1, bin_edges1 = np.histogram(times-np.min(times), 10000)\n",
    "\n",
    "# try creating a histogram with different number of bins, here i used a bin of ~1 sec\n",
    "# hist1, bin_edges1 = np.histogram(times1-np.min(times1), )\n",
    "\n",
    "# or you can try a bin size of ~100 seconds\n",
    "#hist1, bin_edges1 = np.histogram(times1-np.min(times1), )\n",
    "\n",
    "bin_mean1 = (bin_edges1[1:] + bin_edges1[0:-1])/2\n",
    "plt.plot(bin_mean1,hist1)\n",
    "\n",
    "# try to zoom in deferent time period...\n",
    "# plt.xlim(0,20000)"
   ]
  },
  {
   "cell_type": "markdown",
   "id": "e53f1ed1",
   "metadata": {},
   "source": [
    "# Search for period in segments.\n",
    "Here we can run a mask and select events within a time period of the above plot.\n",
    "In the next lines we search for periodicity in the first 150 ks and for 150-300 ks.\n",
    "\n",
    "# TODO\n",
    "- split the ligh-curve in multiple intervals and search for periodicy, you may decide how large or narrow intervals are. Consider if we sellect 100-150ks segments we will only get 3-2 points to work with, so we might need more!\n",
    "\n",
    "- in the next cell i use our custom function `period_search`, you may use `epoch_folding_search` from `stingray`, or even `z_n_search`. No need to try every alternative in the lab, but try to mix it up.\n",
    "\n",
    "- Also consider the definition of the frequencies array, you might need to adjust the oversamoling or the range, you are free to explore this.\n",
    "\n",
    "`obs_length = times.max()-times.min()`\n",
    "\n",
    "`df_min = 1/obs_length`\n",
    "\n",
    "`oversampling=0.1`\n",
    "\n",
    "`df = df_min / oversampling`\n",
    "\n",
    "`frequencies = np.arange(1/period - 500 * df, 1/period + 500 * df, df)`"
   ]
  },
  {
   "cell_type": "code",
   "execution_count": null,
   "id": "31a7e521",
   "metadata": {},
   "outputs": [],
   "source": [
    "mask1 = (times_ev>0) & (times_ev<150000)\n",
    "mask2 = (times_ev>150000) & (times_ev<300000)\n",
    "\n",
    "power_dt1 = period_search(times_ev[mask1],frequencies,10)\n",
    "power_dt2 = period_search(times_ev[mask2],frequencies,10)"
   ]
  },
  {
   "cell_type": "markdown",
   "id": "99b6dbdd",
   "metadata": {},
   "source": [
    "We can now plot the periodogram for multiple segments.\n",
    "\n",
    "TODO:\n",
    "\n",
    "- try to zoom in to look at the peaks, does the main peak move to the left or the right with time? or is it random?\n",
    "- add more lines according to the segments you selected above.\n",
    "- This plot may be part of your report, \n",
    "- Be carefull with axis, units and labels"
   ]
  },
  {
   "cell_type": "code",
   "execution_count": null,
   "id": "479a9e52",
   "metadata": {},
   "outputs": [],
   "source": [
    "plt.figure()\n",
    "\n",
    "plt.plot(frequencies, power_dt1, label='0-150 ks')\n",
    "plt.plot(frequencies, power_dt2, label='150-300 ks')\n",
    "\n",
    "plt.xlabel('Frequency (...)')\n",
    "plt.ylabel('some statistic')\n",
    "_ = plt.legend()"
   ]
  },
  {
   "cell_type": "markdown",
   "id": "fc7ee5ea",
   "metadata": {},
   "source": [
    "TODO:\n",
    "- From the above plot/datasets you may find the maximum of each periodogram."
   ]
  },
  {
   "cell_type": "code",
   "execution_count": null,
   "id": "548c07bd",
   "metadata": {},
   "outputs": [],
   "source": [
    "#get frequencies of peaks\n",
    "max_f1 = frequencies[np.argmax(power_dt1)]\n",
    "max_f2 = frequencies[np.argmax(power_dt2)]\n",
    "\n",
    "print('maximum freq of periodogram (Hz):', max_f1,max_f2)"
   ]
  },
  {
   "cell_type": "markdown",
   "id": "1d235e30",
   "metadata": {},
   "source": [
    "TODO:\n",
    "- Plot this with time.\n",
    "- We use the np.mean(time) as an indicator of the mean time of each segment\n",
    "- add data from all segments, labels and axis."
   ]
  },
  {
   "cell_type": "code",
   "execution_count": null,
   "id": "dda300d6",
   "metadata": {},
   "outputs": [],
   "source": [
    "T = [np.mean(times_ev[mask1]),np.mean(times_ev[mask2])]\n",
    "\n",
    "F = [max_f1,max_f2]\n",
    "\n",
    "plt.close('all')\n",
    "plt.plot(T,F,'ro')\n"
   ]
  },
  {
   "cell_type": "markdown",
   "id": "209d1432",
   "metadata": {},
   "source": [
    "We can fit a line in the above dataset.\n",
    "\n",
    "Steps:\n",
    "- define a function and using the curve fit functions, which returns best fit an a matrix for \"errors\".\n",
    "- The variance of parameters are the diagonal elements of the variance-co variance matrix, and the standard error is the square root of it\n",
    "\n"
   ]
  },
  {
   "cell_type": "code",
   "execution_count": null,
   "id": "dd243123",
   "metadata": {},
   "outputs": [],
   "source": [
    "def lin(x, a, b):\n",
    "    x = np.array(x)\n",
    "    return a*x + b\n",
    "\n",
    "fit_params, pcov = scipy.optimize.curve_fit(lin,T,F)\n",
    "\n",
    "print('best fit:',fit_params)\n",
    "print('errors:',np.sqrt(np.diag(pcov)))\n"
   ]
  },
  {
   "cell_type": "markdown",
   "id": "cfd09ee7",
   "metadata": {},
   "source": [
    "# Final plot:\n",
    "- same as the previous plot, but now you sould add the best fit model.\n",
    "- add labels/axis etc.\n",
    "- This plot should be included in your report"
   ]
  },
  {
   "cell_type": "code",
   "execution_count": null,
   "id": "68f64924",
   "metadata": {},
   "outputs": [],
   "source": [
    "#create plot here\n",
    "plt.figure()"
   ]
  },
  {
   "cell_type": "markdown",
   "id": "8ae6c019",
   "metadata": {},
   "source": [
    "# Optional material: \n",
    "\n",
    "!! Do not read this during Lab !!\n",
    "\n",
    "If you are interested in period search tests have a look here...\n",
    "\n",
    "https://github.com/StingraySoftware/notebooks/blob/main/Pulsar/Pulsar%20search%20with%20epoch%20folding%20and%20Z%20squared.ipynb\n",
    "\n",
    "# Z-squared search\n",
    "The epoch folding statistics has no information on the actual shape of the profile. \n",
    "\n",
    "A better method is the **$Z^2$ statistics** (Buccheri et al. 1983), which is conceptually similar to the Epoch folding but has high values when the signal is well described by a small number of **sinusoidal harmonics**. \n",
    "\n",
    "$Z^2_n = \\dfrac{2}{N} \\sum_{k=1}^n \\left[{\\left(\\sum_{j=1}^N \\cos k \\phi_j\\right)}^2 + {\\left(\\sum_{j=1}^N \\sin k \\phi_j\\right)}^2\\right]$\n",
    "\n",
    "Where $N$ is the number of photons, $n$ is the number of harmonics, $\\phi_j$ are the phases corresponding to the event arrival times $t_j$ ($\\phi_j = \\nu t_j$, where $\\nu$ is the pulse frequency).\n",
    "\n",
    "The $Z_n^2$ statistics defined in this way, far from the pulsed profile, follows a $\\chi^2_n$ distribution, where $n$ is the number of harmonics this time.\n",
    "\n",
    "Stingray implements the $Z$ search in `stingray.pulse.search.z_n_search`.\n",
    "The standard $Z^2$ search calculates the phase of each photon and calculates the sinusoidal functions above for each photon. This is very computationally expensive if the number of photons is high. Therefore, in Stingray, the search is performed by binning the pulse profile first and using the phases of the folded profile in the formula above, multiplying the squared sinusoids of the phases of the pulse profile by a weight corresponding to the number of photons at each phase.\n",
    "\n",
    "$Z^2_n = \\dfrac{2}{\\sum_j{w_j}} \\sum_{k=1}^n \\left[{\\left(\\sum_{j=1}^m w_j \\cos k \\phi_j\\right)}^2 + {\\left(\\sum_{j=1}^m w_j \\sin k \\phi_j\\right)}^2\\right]$\n",
    "\n",
    "Since the sinusoids are only executed on a small number of bins, while the epoch folding procedure just consists of a very fast histogram-like operation, the speedup of this new formula is obvious. Care must be put into the choice of the number of bins, in order to maintain a good approximation even when the number of harmonics is high. As a rule of thumb, use _a number of bins at least 10 times larger than the number of harmonics_."
   ]
  },
  {
   "cell_type": "code",
   "execution_count": null,
   "id": "aba464b2",
   "metadata": {},
   "outputs": [],
   "source": []
  }
 ],
 "metadata": {
  "kernelspec": {
   "display_name": "Python 3 (ipykernel)",
   "language": "python",
   "name": "python3"
  },
  "language_info": {
   "codemirror_mode": {
    "name": "ipython",
    "version": 3
   },
   "file_extension": ".py",
   "mimetype": "text/x-python",
   "name": "python",
   "nbconvert_exporter": "python",
   "pygments_lexer": "ipython3",
   "version": "3.9.16"
  }
 },
 "nbformat": 4,
 "nbformat_minor": 5
}
